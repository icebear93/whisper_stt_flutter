{
 "cells": [
  {
   "cell_type": "code",
   "execution_count": 1,
   "metadata": {},
   "outputs": [
    {
     "name": "stdout",
     "output_type": "stream",
     "text": [
      "Requirement already satisfied: setuptools-rust in /Users/jsp/miniconda3/envs/DL_package_venv/lib/python3.10/site-packages (1.6.0)\n",
      "Requirement already satisfied: setuptools>=62.4 in /Users/jsp/miniconda3/envs/DL_package_venv/lib/python3.10/site-packages (from setuptools-rust) (67.7.2)\n",
      "Requirement already satisfied: semantic-version<3,>=2.8.2 in /Users/jsp/miniconda3/envs/DL_package_venv/lib/python3.10/site-packages (from setuptools-rust) (2.10.0)\n",
      "Requirement already satisfied: typing-extensions>=3.7.4.3 in /Users/jsp/miniconda3/envs/DL_package_venv/lib/python3.10/site-packages (from setuptools-rust) (4.5.0)\n",
      "Collecting git+https://github.com/openai/whisper.git\n",
      "  Cloning https://github.com/openai/whisper.git to /private/var/folders/td/g9cx_zq118gckkv22dvz65wc0000gn/T/pip-req-build-2bpjq8kr\n",
      "  Running command git clone --filter=blob:none --quiet https://github.com/openai/whisper.git /private/var/folders/td/g9cx_zq118gckkv22dvz65wc0000gn/T/pip-req-build-2bpjq8kr\n",
      "  Resolved https://github.com/openai/whisper.git to commit ba3f3cd54b0e5b8ce1ab3de13e32122d0d5f98ab\n",
      "  Installing build dependencies ... \u001b[?25ldone\n",
      "\u001b[?25h  Getting requirements to build wheel ... \u001b[?25ldone\n",
      "\u001b[?25h  Preparing metadata (pyproject.toml) ... \u001b[?25ldone\n",
      "\u001b[?25hRequirement already satisfied: numba in /Users/jsp/miniconda3/envs/DL_package_venv/lib/python3.10/site-packages (from openai-whisper==20231117) (0.57.0)\n",
      "Requirement already satisfied: numpy in /Users/jsp/miniconda3/envs/DL_package_venv/lib/python3.10/site-packages (from openai-whisper==20231117) (1.23.5)\n",
      "Requirement already satisfied: torch in /Users/jsp/miniconda3/envs/DL_package_venv/lib/python3.10/site-packages (from openai-whisper==20231117) (2.0.0)\n",
      "Requirement already satisfied: tqdm in /Users/jsp/miniconda3/envs/DL_package_venv/lib/python3.10/site-packages (from openai-whisper==20231117) (4.65.0)\n",
      "Requirement already satisfied: more-itertools in /Users/jsp/miniconda3/envs/DL_package_venv/lib/python3.10/site-packages (from openai-whisper==20231117) (9.1.0)\n",
      "Requirement already satisfied: tiktoken in /Users/jsp/miniconda3/envs/DL_package_venv/lib/python3.10/site-packages (from openai-whisper==20231117) (0.3.3)\n",
      "Requirement already satisfied: llvmlite<0.41,>=0.40.0dev0 in /Users/jsp/miniconda3/envs/DL_package_venv/lib/python3.10/site-packages (from numba->openai-whisper==20231117) (0.40.0)\n",
      "Requirement already satisfied: regex>=2022.1.18 in /Users/jsp/miniconda3/envs/DL_package_venv/lib/python3.10/site-packages (from tiktoken->openai-whisper==20231117) (2023.5.5)\n",
      "Requirement already satisfied: requests>=2.26.0 in /Users/jsp/miniconda3/envs/DL_package_venv/lib/python3.10/site-packages (from tiktoken->openai-whisper==20231117) (2.29.0)\n",
      "Requirement already satisfied: filelock in /Users/jsp/miniconda3/envs/DL_package_venv/lib/python3.10/site-packages (from torch->openai-whisper==20231117) (3.12.0)\n",
      "Requirement already satisfied: typing-extensions in /Users/jsp/miniconda3/envs/DL_package_venv/lib/python3.10/site-packages (from torch->openai-whisper==20231117) (4.5.0)\n",
      "Requirement already satisfied: sympy in /Users/jsp/miniconda3/envs/DL_package_venv/lib/python3.10/site-packages (from torch->openai-whisper==20231117) (1.11.1)\n",
      "Requirement already satisfied: networkx in /Users/jsp/miniconda3/envs/DL_package_venv/lib/python3.10/site-packages (from torch->openai-whisper==20231117) (3.1)\n",
      "Requirement already satisfied: jinja2 in /Users/jsp/miniconda3/envs/DL_package_venv/lib/python3.10/site-packages (from torch->openai-whisper==20231117) (3.1.2)\n",
      "Requirement already satisfied: charset-normalizer<4,>=2 in /Users/jsp/miniconda3/envs/DL_package_venv/lib/python3.10/site-packages (from requests>=2.26.0->tiktoken->openai-whisper==20231117) (3.1.0)\n",
      "Requirement already satisfied: idna<4,>=2.5 in /Users/jsp/miniconda3/envs/DL_package_venv/lib/python3.10/site-packages (from requests>=2.26.0->tiktoken->openai-whisper==20231117) (3.4)\n",
      "Requirement already satisfied: urllib3<1.27,>=1.21.1 in /Users/jsp/miniconda3/envs/DL_package_venv/lib/python3.10/site-packages (from requests>=2.26.0->tiktoken->openai-whisper==20231117) (1.26.15)\n",
      "Requirement already satisfied: certifi>=2017.4.17 in /Users/jsp/miniconda3/envs/DL_package_venv/lib/python3.10/site-packages (from requests>=2.26.0->tiktoken->openai-whisper==20231117) (2022.12.7)\n",
      "Requirement already satisfied: MarkupSafe>=2.0 in /Users/jsp/miniconda3/envs/DL_package_venv/lib/python3.10/site-packages (from jinja2->torch->openai-whisper==20231117) (2.1.2)\n",
      "Requirement already satisfied: mpmath>=0.19 in /Users/jsp/miniconda3/envs/DL_package_venv/lib/python3.10/site-packages (from sympy->torch->openai-whisper==20231117) (1.3.0)\n",
      "Building wheels for collected packages: openai-whisper\n",
      "  Building wheel for openai-whisper (pyproject.toml) ... \u001b[?25ldone\n",
      "\u001b[?25h  Created wheel for openai-whisper: filename=openai_whisper-20231117-py3-none-any.whl size=802825 sha256=aa27c146b4ecbd536d840cbbcbc6bb0c78dfe3c2a628a89b2568241e257fe660\n",
      "  Stored in directory: /private/var/folders/td/g9cx_zq118gckkv22dvz65wc0000gn/T/pip-ephem-wheel-cache-cs8x6erm/wheels/8b/6c/d0/622666868c179f156cf595c8b6f06f88bc5d80c4b31dccaa03\n",
      "Successfully built openai-whisper\n",
      "Installing collected packages: openai-whisper\n",
      "  Attempting uninstall: openai-whisper\n",
      "    Found existing installation: openai-whisper 20230314\n",
      "    Uninstalling openai-whisper-20230314:\n",
      "      Successfully uninstalled openai-whisper-20230314\n",
      "Successfully installed openai-whisper-20231117\n"
     ]
    }
   ],
   "source": [
    "!pip3 install setuptools-rust\n",
    "!pip3 install git+https://github.com/openai/whisper.git"
   ]
  },
  {
   "cell_type": "code",
   "execution_count": 4,
   "metadata": {},
   "outputs": [
    {
     "name": "stderr",
     "output_type": "stream",
     "text": [
      "100%|█████████████████████████████████████| 1.42G/1.42G [03:26<00:00, 7.41MiB/s]\n",
      "/Users/jsp/miniconda3/envs/DL_package_venv/lib/python3.10/site-packages/whisper/transcribe.py:126: UserWarning: FP16 is not supported on CPU; using FP32 instead\n",
      "  warnings.warn(\"FP16 is not supported on CPU; using FP32 instead\")\n"
     ]
    },
    {
     "name": "stdout",
     "output_type": "stream",
     "text": [
      " 아침부터는 안전 문을 열었습니다. 아침 출근길 서울 지하철에서 한 20대 직장인이 열차 출입문과 안전문 그러니까 스크린 도어 사이에 갇히는 사고가 벌어졌습니다. 그 상태에서 열차가 그대로 출발하면서 더 큰 사고로 이어질 뻔 했는데요. 열차가 다 떠날 때까지 작은 틈에 꼼짝없이 갇혀 있어야 했고 결국 본인이 스스로 안전문을 열어서 탈출을 했습니다. 제보는 MBC 류현중 기자가 전하겠습니다. 지난 12일 출근길에 사당역에서 4호선으로 갈아타려던 김다혜 씨는 여느 때처럼 줄을 따라 객차로 접근했습니다. 그런데 미쳐 오르지 못한 상태에서 갑자기 출입문이 닫혔고 곧바로 뒤쪽 안전문, 스크린 도어마저 닫혔습니다. 여기 이겨버릴게요, 저기. 다 했어.\n"
     ]
    }
   ],
   "source": [
    "import whisper\n",
    "\n",
    "model = whisper.load_model('medium')\n",
    "result = model.transcribe('New Recording 27.m4a')\n",
    "print(result['text'])"
   ]
  }
 ],
 "metadata": {
  "kernelspec": {
   "display_name": "DL_package_venv",
   "language": "python",
   "name": "python3"
  },
  "language_info": {
   "codemirror_mode": {
    "name": "ipython",
    "version": 3
   },
   "file_extension": ".py",
   "mimetype": "text/x-python",
   "name": "python",
   "nbconvert_exporter": "python",
   "pygments_lexer": "ipython3",
   "version": "3.10.10"
  }
 },
 "nbformat": 4,
 "nbformat_minor": 2
}
